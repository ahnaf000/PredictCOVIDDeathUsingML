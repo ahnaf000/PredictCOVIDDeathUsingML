{
 "cells": [
  {
   "cell_type": "markdown",
   "id": "b9cb4b38-033e-4d35-b847-c75d4f0ee421",
   "metadata": {
    "tags": []
   },
   "source": [
    "# Predicting COVID Deaths with PyTorch"
   ]
  },
  {
   "cell_type": "markdown",
   "id": "e3a3103c-0d92-46e5-bc8f-8b1769c6b7ab",
   "metadata": {},
   "source": [
    "In this project, I am using PyTorch to create a regression model that can predict how many deaths there will be for a WI census tract, given the number of people who have tested positive, broken down by age. The train.csv and test.csv files used for this task are based on this dataset: https://data.dhsgis.wi.gov/datasets/wi-dhs::covid-19-vaccination-data-by-census-tract"
   ]
  },
  {
   "cell_type": "markdown",
   "id": "e9a43ea3-1c2f-4f1f-ac0f-46ef8a848aca",
   "metadata": {},
   "source": [
    "## Import Libraries"
   ]
  },
  {
   "cell_type": "code",
   "execution_count": 1,
   "id": "3db47d98-4110-416c-8d9a-1614adc1d29d",
   "metadata": {
    "tags": []
   },
   "outputs": [],
   "source": [
    "import pandas as pd\n",
    "import numpy as np\n",
    "import torch\n",
    "import matplotlib.pyplot as plt\n",
    "import time"
   ]
  },
  {
   "cell_type": "markdown",
   "id": "ce5f672f-4c75-460d-895e-a59e176e7952",
   "metadata": {},
   "source": [
    "## Loading Data"
   ]
  },
  {
   "cell_type": "code",
   "execution_count": 2,
   "id": "4d95ab59-b8e9-4031-a548-57eeaaa3b57c",
   "metadata": {
    "tags": []
   },
   "outputs": [],
   "source": [
    "# Load CSVs to Dataframe\n",
    "test_df = pd.read_csv(\"data/test.csv\")\n",
    "train_df = pd.read_csv(\"data/train.csv\")"
   ]
  },
  {
   "cell_type": "code",
   "execution_count": 3,
   "id": "cb6598b8-05ab-46b5-a6ac-9b483ecb12d9",
   "metadata": {
    "tags": []
   },
   "outputs": [],
   "source": [
    "# Create Numpy Arrays from Dataframe\n",
    "trainX = train_df.values[:,:10]\n",
    "trainY = train_df.values[:,10].reshape(-1,1)\n",
    "\n",
    "testX = test_df.values[:,:10]\n",
    "testY = test_df.values[:,10].reshape(-1,1)"
   ]
  },
  {
   "cell_type": "code",
   "execution_count": 4,
   "id": "7626bd27-0699-4bc0-8b99-8677304a07d1",
   "metadata": {
    "tags": []
   },
   "outputs": [],
   "source": [
    "# Convert Numpy Arrays to PyTorch\n",
    "trainX = torch.from_numpy(trainX).to(torch.float64)\n",
    "trainY = torch.from_numpy(trainY).to(torch.float64)\n",
    "\n",
    "testX = torch.from_numpy(testX).to(torch.float64)\n",
    "testY = torch.from_numpy(testY).to(torch.float64)"
   ]
  },
  {
   "cell_type": "markdown",
   "id": "2b9b93ea-384a-4998-8758-f281942d0568",
   "metadata": {},
   "source": [
    "## Part 1: Prediction with Hardcoded Model"
   ]
  },
  {
   "cell_type": "markdown",
   "id": "c9bffb46-1851-4320-8da1-a60a4644e67e",
   "metadata": {},
   "source": [
    "Let's predict the number of COVID deaths in the test dataset under the assumption that the deathrate is 0.004 for those <60 and 0.03 for those >=60"
   ]
  },
  {
   "cell_type": "code",
   "execution_count": 5,
   "id": "9eeb99ee-0015-44d1-be5a-08390f5861ef",
   "metadata": {
    "tags": []
   },
   "outputs": [],
   "source": [
    "coef = torch.tensor([\n",
    "        [0.0040],\n",
    "        [0.0040],\n",
    "        [0.0040],\n",
    "        [0.0040],\n",
    "        [0.0040],\n",
    "        [0.0040], # POS_50_59_CP\n",
    "        [0.0300], # POS_60_69_CP\n",
    "        [0.0300],\n",
    "        [0.0300],\n",
    "        [0.0300]\n",
    "], dtype=testX.dtype)\n",
    "#coef"
   ]
  },
  {
   "cell_type": "code",
   "execution_count": 6,
   "id": "f234d16a-c01c-415f-b1d2-97841a7c67d6",
   "metadata": {
    "tags": []
   },
   "outputs": [],
   "source": [
    "#coef.shape, testX.shape"
   ]
  },
  {
   "cell_type": "markdown",
   "id": "7f5d8d42-d1a9-4b07-b14c-2e362de2eeb3",
   "metadata": {},
   "source": [
    "### Check for GPU availability"
   ]
  },
  {
   "cell_type": "code",
   "execution_count": 7,
   "id": "b7f012df-1a95-40ad-a001-ba4790774026",
   "metadata": {
    "tags": []
   },
   "outputs": [
    {
     "name": "stdout",
     "output_type": "stream",
     "text": [
      "No GPU available.\n",
      "Using CPU\n"
     ]
    }
   ],
   "source": [
    "if torch.cuda.is_available():\n",
    "    trainX = trainX.to(\"cuda\")\n",
    "    trainY = trainY.to(\"cuda\")\n",
    "    \n",
    "    testX = testX.to(\"cuda\")\n",
    "    testY = testY.to(\"cuda\")\n",
    "    \n",
    "    coef = coef.to(\"cuda\")\n",
    "    print(\"Using GPU\")\n",
    "else:\n",
    "    print(\"No GPU available.\")\n",
    "    print(\"Using CPU\")"
   ]
  },
  {
   "cell_type": "markdown",
   "id": "555d185d-6c7a-4c37-8a8a-cc312ddf0980",
   "metadata": {},
   "source": [
    "#### Let's predict on the first instance of testX"
   ]
  },
  {
   "cell_type": "code",
   "execution_count": 8,
   "id": "a8739575-9576-47f3-b885-10e85b3bf2ba",
   "metadata": {
    "tags": []
   },
   "outputs": [],
   "source": [
    "#testX[[0], :].shape # torch.Size([1, 10])\n",
    "#coef.shape          # torch.Size([10, 1])\n",
    "predicted_death = testX[[0], :] @ coef"
   ]
  },
  {
   "cell_type": "code",
   "execution_count": 9,
   "id": "c17f3cf6-c01b-48b7-8ccc-98e5efdf15c6",
   "metadata": {
    "tags": []
   },
   "outputs": [
    {
     "name": "stdout",
     "output_type": "stream",
     "text": [
      "Predicted number of deaths in this tract using the Naive hardcoded model: 9.844\n"
     ]
    }
   ],
   "source": [
    "print(f\"Predicted number of deaths in this tract using the Naive hardcoded model: {predicted_death.item()}\")"
   ]
  },
  {
   "cell_type": "markdown",
   "id": "2f58fa7c-aa3a-492b-876b-4b28339b43aa",
   "metadata": {
    "tags": []
   },
   "source": [
    "## Part 2: R^2 Score"
   ]
  },
  {
   "cell_type": "markdown",
   "id": "b065a5d5-96aa-452f-9988-43c9b0753210",
   "metadata": {},
   "source": [
    "We will be calculating the R^2 score (https://en.wikipedia.org/wiki/Coefficient_of_determination) which is a measure of how much variance in the y column can be capptured by our model (with 1 being the best score). Since there exist multiple definitions of R^2 score, we will be defining it in terms of 2 variabels:\n",
    "\n",
    "- **SStot**: to compute this, we first compute the average `testY` value. Then we subtract to get the difference between each `testY` value and the average. Lastly, we square the differences, and add the results to get `SStot`\n",
    "- **SSreg**: this is the same as `SStot`, but instead of subtracting the average from each `testY` value, we subtract the prediction from `testY`\n",
    "\n",
    "If our predictions are good, `SSreg` will be much smaller than `SStot`. So define `improvement = SStot - SSreg`.\n",
    "\n",
    "The R^2 score is just `improvement/SStot`."
   ]
  },
  {
   "cell_type": "markdown",
   "id": "2636a19b-8374-4074-951e-c4a8b8084278",
   "metadata": {},
   "source": [
    "Now let us generalize the above logic into a reusable function r2_score(trueY, predictedY), that can compute the R^2 score given any vector of true values alongside a vector of predictions. "
   ]
  },
  {
   "cell_type": "code",
   "execution_count": 10,
   "id": "d700b1b8-ad71-4140-b5f0-7d3476bd6678",
   "metadata": {
    "tags": []
   },
   "outputs": [],
   "source": [
    "def r2_score(trueY, predictedY):\n",
    "    def calculate_SStot(trueY, avg_trueY):\n",
    "        return torch.sum(torch.pow((trueY-avg_trueY), 2))\n",
    "    \n",
    "    def calculate_SSreg(trueY, predictedY):\n",
    "        return torch.sum(torch.pow((trueY-predictedY), 2))\n",
    "        \n",
    "    \n",
    "    # Defining Variables\n",
    "    SStot, SSreg, improvement = None, None, None\n",
    "    avg_trueY = testY.mean()\n",
    "    \n",
    "    # Calculate SStot, SSreg, Improvement, R^2 score\n",
    "    SStot = calculate_SStot(avg_trueY = avg_trueY, \n",
    "                            trueY = testY)\n",
    "    SSreg = calculate_SSreg(trueY = testY, \n",
    "                            predictedY = predictedY)\n",
    "    \n",
    "    #print(f\"SStot: {SStot}\")\n",
    "    #print(f\"SSreg: {SSreg}\")\n",
    "    \n",
    "    improvement = SStot - SSreg\n",
    "    #print(f\"improvement: {improvement}\")\n",
    "    \n",
    "    r2_score = improvement / SStot\n",
    "    #print(f\"R^2 Score: {r2_score}\")\n",
    "    \n",
    "    return r2_score\n",
    "    \n",
    "    "
   ]
  },
  {
   "cell_type": "markdown",
   "id": "ed0ffe26-dc00-4d33-b72d-644acac434d2",
   "metadata": {
    "tags": []
   },
   "source": [
    "Let us calculate the R^2 score of the predictions made by our hardcoded model"
   ]
  },
  {
   "cell_type": "code",
   "execution_count": 11,
   "id": "e889e3a5-ec4d-4fba-9a36-34c57f9a1188",
   "metadata": {
    "tags": []
   },
   "outputs": [
    {
     "name": "stdout",
     "output_type": "stream",
     "text": [
      "R^2 Score: 0.41103503288417204\n"
     ]
    }
   ],
   "source": [
    "# These are the predictions made by our model\n",
    "predictedY = testX @ coef \n",
    "\n",
    "# R^2 Score\n",
    "r2_scr = r2_score(trueY = testY,\n",
    "                  predictedY=predictedY)\n",
    "print(f\"R^2 Score: {r2_scr}\")"
   ]
  },
  {
   "cell_type": "markdown",
   "id": "c8f68f92-f5f4-4203-a4e4-7d8a524b50ac",
   "metadata": {},
   "source": [
    "## Part 3: Optimization"
   ]
  },
  {
   "cell_type": "markdown",
   "id": "78f550bb-19ec-4c7a-be4e-dbcce5c7708c",
   "metadata": {},
   "source": [
    "Given `y = x^2 - 8x + 19`, we want to find the `x` value that minimizes y.<br>\n",
    "We will use a PyTorch optimizer (SGD) to try to find a good `x` value. The optimizer will run a loop where it computes `y`, computes how a small change in `x` would effect `y`, then makes a small change to `x` to try to make `y` smaller."
   ]
  },
  {
   "cell_type": "markdown",
   "id": "80cd350f-c489-4580-9e9d-b5a3021a3f86",
   "metadata": {},
   "source": [
    "##### Q. what is `y` when `x` is a tensor containing 0.0?"
   ]
  },
  {
   "cell_type": "code",
   "execution_count": 12,
   "id": "8de176f8-c470-46fa-ab00-198d23a5fbe7",
   "metadata": {
    "tags": []
   },
   "outputs": [
    {
     "data": {
      "text/plain": [
       "19.0"
      ]
     },
     "execution_count": 12,
     "metadata": {},
     "output_type": "execute_result"
    }
   ],
   "source": [
    "x = torch.tensor(0.0, requires_grad = True)\n",
    "y = x**2 - 8*x + 19\n",
    "y.item()"
   ]
  },
  {
   "cell_type": "markdown",
   "id": "33bd6eec-8861-4a34-a591-fe962bdbf2fe",
   "metadata": {},
   "source": [
    "Okay now let us find the optimal `x`, given `y = x^2 - 8x + 19`"
   ]
  },
  {
   "cell_type": "code",
   "execution_count": 13,
   "id": "3d088d7d-2e94-46cf-a476-bc45f7834cf6",
   "metadata": {
    "tags": []
   },
   "outputs": [
    {
     "name": "stdout",
     "output_type": "stream",
     "text": [
      "tensor(0.8000, requires_grad=True) tensor(19., grad_fn=<AddBackward0>)\n",
      "tensor(1.4400, requires_grad=True) tensor(13.2400, grad_fn=<AddBackward0>)\n",
      "tensor(1.9520, requires_grad=True) tensor(9.5536, grad_fn=<AddBackward0>)\n",
      "tensor(2.3616, requires_grad=True) tensor(7.1943, grad_fn=<AddBackward0>)\n",
      "tensor(2.6893, requires_grad=True) tensor(5.6844, grad_fn=<AddBackward0>)\n",
      "tensor(2.9514, requires_grad=True) tensor(4.7180, grad_fn=<AddBackward0>)\n",
      "tensor(3.1611, requires_grad=True) tensor(4.0995, grad_fn=<AddBackward0>)\n",
      "tensor(3.3289, requires_grad=True) tensor(3.7037, grad_fn=<AddBackward0>)\n",
      "tensor(3.4631, requires_grad=True) tensor(3.4504, grad_fn=<AddBackward0>)\n",
      "tensor(3.5705, requires_grad=True) tensor(3.2882, grad_fn=<AddBackward0>)\n",
      "tensor(3.6564, requires_grad=True) tensor(3.1845, grad_fn=<AddBackward0>)\n",
      "tensor(3.7251, requires_grad=True) tensor(3.1181, grad_fn=<AddBackward0>)\n",
      "tensor(3.7801, requires_grad=True) tensor(3.0756, grad_fn=<AddBackward0>)\n",
      "tensor(3.8241, requires_grad=True) tensor(3.0484, grad_fn=<AddBackward0>)\n",
      "tensor(3.8593, requires_grad=True) tensor(3.0309, grad_fn=<AddBackward0>)\n",
      "tensor(3.8874, requires_grad=True) tensor(3.0198, grad_fn=<AddBackward0>)\n",
      "tensor(3.9099, requires_grad=True) tensor(3.0127, grad_fn=<AddBackward0>)\n",
      "tensor(3.9279, requires_grad=True) tensor(3.0081, grad_fn=<AddBackward0>)\n",
      "tensor(3.9424, requires_grad=True) tensor(3.0052, grad_fn=<AddBackward0>)\n",
      "tensor(3.9539, requires_grad=True) tensor(3.0033, grad_fn=<AddBackward0>)\n",
      "tensor(3.9631, requires_grad=True) tensor(3.0021, grad_fn=<AddBackward0>)\n",
      "tensor(3.9705, requires_grad=True) tensor(3.0014, grad_fn=<AddBackward0>)\n",
      "tensor(3.9764, requires_grad=True) tensor(3.0009, grad_fn=<AddBackward0>)\n",
      "tensor(3.9811, requires_grad=True) tensor(3.0006, grad_fn=<AddBackward0>)\n",
      "tensor(3.9849, requires_grad=True) tensor(3.0004, grad_fn=<AddBackward0>)\n",
      "tensor(3.9879, requires_grad=True) tensor(3.0002, grad_fn=<AddBackward0>)\n",
      "tensor(3.9903, requires_grad=True) tensor(3.0001, grad_fn=<AddBackward0>)\n",
      "tensor(3.9923, requires_grad=True) tensor(3.0001, grad_fn=<AddBackward0>)\n",
      "tensor(3.9938, requires_grad=True) tensor(3.0001, grad_fn=<AddBackward0>)\n",
      "tensor(3.9950, requires_grad=True) tensor(3.0000, grad_fn=<AddBackward0>)\n"
     ]
    },
    {
     "data": {
      "image/png": "[encoded data removed]",
      "text/plain": [
       "<Figure size 640x480 with 1 Axes>"
      ]
     },
     "metadata": {},
     "output_type": "display_data"
    }
   ],
   "source": [
    "def f(x):\n",
    "    return x**2 - 8*x + 19\n",
    "\n",
    "x_values_range = torch.arange(0, 8, 0.1) # this is for the graph\n",
    "y = f(x_values_range)\n",
    "plt.plot(x_values_range, y)\n",
    "\n",
    "\n",
    "x = torch.tensor(0.0, requires_grad = True) # this is the value \n",
    "                                            # we want to optimize\n",
    "optimizer = torch.optim.SGD([x], lr=0.1)    # SGD optimizer instance\n",
    "\n",
    "# Optimization begins below\n",
    "for epoch in range(30):\n",
    "        optimizer.zero_grad() # set x.grad = 0 before the next loop\n",
    "        y = f(x)\n",
    "        plt.plot(x.detach(), y.detach(), \"ro\")\n",
    "        y.backward()\n",
    "        # make a small change to x, based on the gradient\n",
    "        # doesn't set gradient, but adds to x.grad\n",
    "        optimizer.step() \n",
    "        print(x, y)"
   ]
  },
  {
   "cell_type": "code",
   "execution_count": 14,
   "id": "c9977d4b-5329-41ac-acdf-032738e41ebb",
   "metadata": {
    "tags": []
   },
   "outputs": [
    {
     "name": "stdout",
     "output_type": "stream",
     "text": [
      "The optimized value of x is 3.9950480461120605\n"
     ]
    }
   ],
   "source": [
    "print(f\"The optimized value of x is {x.item()}\")"
   ]
  },
  {
   "cell_type": "markdown",
   "id": "4d4d53a6-030a-4ecc-a7a9-aa8966f75517",
   "metadata": {},
   "source": [
    "## Part 4: Linear Regression"
   ]
  },
  {
   "cell_type": "markdown",
   "id": "42bbf015-2c9b-4fd5-a140-b39d902e7fcd",
   "metadata": {
    "tags": []
   },
   "source": [
    "In **Part 1** we used a hardcoded `coef` vector to predict COVID deaths. Now we will start with random coefficients and build a Linear CLassifier, and use an instance of `SGD` to optimize the coefficients"
   ]
  },
  {
   "cell_type": "markdown",
   "id": "0f1d1fa6-d211-413e-83d2-a8b7debd87a2",
   "metadata": {
    "tags": []
   },
   "source": [
    "We will take the following steps in the following section:\n",
    "- create a TensorDataset from `trainX` and `trainY`\n",
    "- create a DataLoader that uses the Dataset created in the preceeding step (this will give us the added options of shuffling, and setting different batch sizes)\n",
    "- create a simple linear model by initializing `torch.nn.Linear`\n",
    "- create an optimizer from `torch.optim.SGD` that will optimize the `.weight` and `.bia`s parameters of the `model`\n",
    "- we will train our model in many epochs, and use `torch.nn.MSELoss`\n",
    "- Lastly we will report the R^2 score of the predictions of our model using the testData (Goal is to imporve the r^2 score from part 1, and achieve at least 50% accuracy)"
   ]
  },
  {
   "cell_type": "code",
   "execution_count": 15,
   "id": "38c1653e-b2fd-4b87-9799-6226b826c535",
   "metadata": {},
   "outputs": [],
   "source": [
    "torch.manual_seed(29)\n",
    "# Create a dataset\n",
    "dataset = torch.utils.data.TensorDataset(\n",
    "    trainX,\n",
    "    trainY\n",
    ")\n",
    "\n",
    "# create a DataLoader\n",
    "dataloader = torch.utils.data.DataLoader(dataset, \n",
    "                                         shuffle=True, \n",
    "                                         batch_size=10)"
   ]
  },
  {
   "cell_type": "code",
   "execution_count": 16,
   "id": "2d93c906-e541-48e9-be51-68978759505c",
   "metadata": {
    "tags": []
   },
   "outputs": [],
   "source": [
    "torch.manual_seed(29)\n",
    "# Create a model\n",
    "din = trainX.shape[1] # number of inputs = 10\n",
    "dout = trainY.shape[1] # number of outputs = 1\n",
    "dth_prdctr_mdl = torch.nn.Linear(din, dout, dtype=torch.float64)\n",
    "\n",
    "# Define an SGD optimizer instance for model\n",
    "mdl_optimizer = torch.optim.SGD([dth_prdctr_mdl.weight, dth_prdctr_mdl.bias],\n",
    "                                lr = 0.000001)\n",
    "\n",
    "# Define a Mean Squared Error Loss function for model\n",
    "loss_fnctn = torch.nn.MSELoss()"
   ]
  },
  {
   "cell_type": "markdown",
   "id": "aa3bf126-fbd9-4e2b-b490-8954b1bb4513",
   "metadata": {},
   "source": [
    "#### Now that we have initialized our data, and the model, let us start training the model"
   ]
  },
  {
   "cell_type": "code",
   "execution_count": 17,
   "id": "9c2391a5-433d-49db-a8ea-5c6efcc5f40c",
   "metadata": {
    "tags": []
   },
   "outputs": [
    {
     "name": "stdout",
     "output_type": "stream",
     "text": [
      "End of Epoch: 0, Loss: 214.69547835211785\n",
      "End of Epoch: 10, Loss: 39.93378324436931\n",
      "End of Epoch: 20, Loss: 30.20665286741488\n",
      "End of Epoch: 30, Loss: 30.401492074645816\n",
      "End of Epoch: 40, Loss: 28.91677997134669\n",
      "End of Epoch: 50, Loss: 36.7639428906243\n",
      "End of Epoch: 60, Loss: 26.801339214844933\n",
      "End of Epoch: 70, Loss: 27.29075570335084\n",
      "End of Epoch: 80, Loss: 27.425750973293066\n",
      "End of Epoch: 90, Loss: 32.23241061780809\n",
      "End of Epoch: 100, Loss: 26.89347006650086\n",
      "End of Epoch: 110, Loss: 26.644116892686863\n",
      "End of Epoch: 120, Loss: 36.55399100743545\n",
      "End of Epoch: 130, Loss: 100.796352678503\n",
      "End of Epoch: 140, Loss: 26.543583721638896\n"
     ]
    }
   ],
   "source": [
    "# metadata\n",
    "torch.manual_seed(29)\n",
    "epochs = 150\n",
    "time_start, time_end = time.time(), None\n",
    "\n",
    "# Training model\n",
    "for epoch in range(epochs):\n",
    "    for batchX, batchY in dataloader:\n",
    "        predictedDeath = dth_prdctr_mdl(batchX)\n",
    "        loss = loss_fnctn(batchY, predictedDeath)\n",
    "        loss.backward()           # update weight.grad and bias.grad\n",
    "        mdl_optimizer.step()      # update weight, bias based on gradient\n",
    "        mdl_optimizer.zero_grad() # weight.grad = 0, bias.grad = 0\n",
    "    \n",
    "    x, y = dataset[:]  \n",
    "    # print out the loss of our model after \n",
    "    # every 10 iterations of training\n",
    "    if epoch%10 == 0:\n",
    "        print(f\"End of Epoch: {epoch}, Loss: {loss_fnctn(y, dth_prdctr_mdl(x))}\") \n",
    "    \n",
    "time_end = time.time()"
   ]
  },
  {
   "cell_type": "markdown",
   "id": "ff7e4e5b-f59e-4aea-b143-70de775939c4",
   "metadata": {},
   "source": [
    "#### Execution time for training model"
   ]
  },
  {
   "cell_type": "code",
   "execution_count": 18,
   "id": "59e55a0f-2ac0-456e-90c8-6203bb6465c3",
   "metadata": {
    "tags": []
   },
   "outputs": [
    {
     "name": "stdout",
     "output_type": "stream",
     "text": [
      "Total time taken for training: 5.333 seconds\n"
     ]
    }
   ],
   "source": [
    "print(f\"Total time taken for training: {str(time_end - time_start)[:5]} seconds\")"
   ]
  },
  {
   "cell_type": "markdown",
   "id": "19361580-dacf-4749-a60d-890a81cf2972",
   "metadata": {},
   "source": [
    "#### Let us now calculate the R^2 Score of our model using the function we defined in **Part 2**. We will use `testX`, and `testY`"
   ]
  },
  {
   "cell_type": "code",
   "execution_count": 19,
   "id": "4bd8574b-b22c-467c-b1cb-18cc2775e2a6",
   "metadata": {
    "tags": []
   },
   "outputs": [
    {
     "name": "stdout",
     "output_type": "stream",
     "text": [
      "R^2 Score: 0.57652473942537\n"
     ]
    }
   ],
   "source": [
    "predictedDeath_byModel = dth_prdctr_mdl(testX)\n",
    "\n",
    "r2_score_dth_prdctr_mdl = r2_score(trueY=testY,\n",
    "                                   predictedY=predictedDeath_byModel)\n",
    "print(f\"R^2 Score: {r2_score_dth_prdctr_mdl}\")"
   ]
  },
  {
   "cell_type": "markdown",
   "id": "e80f6994-12e6-4312-8f86-47093aef1a3c",
   "metadata": {},
   "source": [
    "#### Let us visualize the weights of our model"
   ]
  },
  {
   "cell_type": "code",
   "execution_count": 20,
   "id": "2c06667e-4ecf-4909-8d24-9a23109b527a",
   "metadata": {},
   "outputs": [
    {
     "data": {
      "image/png": "[encoded data removed]",
      "text/plain": [
       "<Figure size 640x480 with 1 Axes>"
      ]
     },
     "metadata": {},
     "output_type": "display_data"
    }
   ],
   "source": [
    "# Extract the weight tensor from the model \n",
    "# and convert it to a NumPy array\n",
    "weights = dth_prdctr_mdl.weight.detach().numpy()\n",
    "x_labels = list(test_df.columns)[:-1]\n",
    "\n",
    "# Plot a bar graph of the weights\n",
    "fig, ax = plt.subplots()\n",
    "ax.bar(range(weights.shape[1]), weights[0])\n",
    "ax.set_xticks(range(weights.shape[1])) # set the tick positions for every tick\n",
    "ax.set_xticklabels([label for label in x_labels], rotation=50, ha=\"right\")\n",
    "ax.set_xlabel(\"Feature Name\")\n",
    "ax.set_ylabel(\"Coefficient Value\")\n",
    "plt.show()"
   ]
  },
  {
   "cell_type": "code",
   "execution_count": null,
   "id": "ce77764c-48c2-4bdc-84c4-988e7fef08e7",
   "metadata": {},
   "outputs": [],
   "source": []
  },
  {
   "cell_type": "code",
   "execution_count": null,
   "id": "d83100d8-5c3e-4d3a-908d-0105c192e4be",
   "metadata": {},
   "outputs": [],
   "source": []
  },
  {
   "cell_type": "code",
   "execution_count": null,
   "id": "1630d90c-7848-4fab-adc3-c06e87dac47a",
   "metadata": {},
   "outputs": [],
   "source": []
  },
  {
   "cell_type": "code",
   "execution_count": null,
   "id": "f75f7aa2-3b40-49d1-b6b4-aa134db4a5a7",
   "metadata": {},
   "outputs": [],
   "source": []
  }
 ],
 "metadata": {
  "kernelspec": {
   "display_name": "Python 3 (ipykernel)",
   "language": "python",
   "name": "python3"
  },
  "language_info": {
   "codemirror_mode": {
    "name": "ipython",
    "version": 3
   },
   "file_extension": ".py",
   "mimetype": "text/x-python",
   "name": "python",
   "nbconvert_exporter": "python",
   "pygments_lexer": "ipython3",
   "version": "3.10.6"
  }
 },
 "nbformat": 4,
 "nbformat_minor": 5
}
